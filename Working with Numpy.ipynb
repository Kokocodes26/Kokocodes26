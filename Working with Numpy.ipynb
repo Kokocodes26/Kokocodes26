{
 "cells": [
  {
   "cell_type": "code",
   "execution_count": 6,
   "id": "5fa4dcfe",
   "metadata": {},
   "outputs": [],
   "source": [
    "#numpy is a library in python used for arrays, data analyst, etc.\n",
    "import numpy as np"
   ]
  },
  {
   "cell_type": "code",
   "execution_count": 4,
   "id": "3f65fd81",
   "metadata": {},
   "outputs": [
    {
     "name": "stdout",
     "output_type": "stream",
     "text": [
      "[2 3 4 1]\n"
     ]
    }
   ],
   "source": [
    "# Creating an array\n",
    "a = np.array([2,3,4,1])\n",
    "print(a)"
   ]
  },
  {
   "cell_type": "code",
   "execution_count": 5,
   "id": "c9e32d30",
   "metadata": {},
   "outputs": [
    {
     "name": "stdout",
     "output_type": "stream",
     "text": [
      "[ 1  2  3  4  5  6  7  8  9 10]\n"
     ]
    }
   ],
   "source": [
    "# Creating an array using the arange()\n",
    "b = np.arange(1,11)\n",
    "print(b)"
   ]
  },
  {
   "cell_type": "code",
   "execution_count": 8,
   "id": "fd0f3431",
   "metadata": {},
   "outputs": [
    {
     "name": "stdout",
     "output_type": "stream",
     "text": [
      "[[0. 0. 0. ... 0. 0. 0.]\n",
      " [0. 0. 0. ... 0. 0. 0.]\n",
      " [0. 0. 0. ... 0. 0. 0.]\n",
      " ...\n",
      " [0. 0. 0. ... 0. 0. 0.]\n",
      " [0. 0. 0. ... 0. 0. 0.]\n",
      " [0. 0. 0. ... 0. 0. 0.]]\n"
     ]
    }
   ],
   "source": [
    "# zeros\n",
    "z = np.zeros((100,100))\n",
    "print(z)"
   ]
  },
  {
   "cell_type": "code",
   "execution_count": 9,
   "id": "cad623a5",
   "metadata": {},
   "outputs": [
    {
     "name": "stdout",
     "output_type": "stream",
     "text": [
      "[[1. 1. 1. 1. 1. 1. 1. 1.]\n",
      " [1. 1. 1. 1. 1. 1. 1. 1.]\n",
      " [1. 1. 1. 1. 1. 1. 1. 1.]\n",
      " [1. 1. 1. 1. 1. 1. 1. 1.]\n",
      " [1. 1. 1. 1. 1. 1. 1. 1.]\n",
      " [1. 1. 1. 1. 1. 1. 1. 1.]\n",
      " [1. 1. 1. 1. 1. 1. 1. 1.]\n",
      " [1. 1. 1. 1. 1. 1. 1. 1.]]\n"
     ]
    }
   ],
   "source": [
    "# Creating an array of all 1's\n",
    "one = np.ones((8,8))\n",
    "print(one)"
   ]
  },
  {
   "cell_type": "code",
   "execution_count": 14,
   "id": "6ecf6753",
   "metadata": {},
   "outputs": [
    {
     "name": "stdout",
     "output_type": "stream",
     "text": [
      "[[0.66870907 0.38349585 0.78003305 0.3083537 ]\n",
      " [0.26969436 0.32110645 0.2741775  0.22543267]\n",
      " [0.48208969 0.25527179 0.19435062 0.95085709]\n",
      " [0.87595265 0.69134102 0.95378236 0.46127486]\n",
      " [0.86265768 0.81869637 0.46433539 0.47237599]]\n"
     ]
    }
   ],
   "source": [
    "# Creating an array of random values\n",
    "ran = np.random.random((5,4)) # 5 rows and 4 columns\n",
    "print(ran)"
   ]
  },
  {
   "cell_type": "markdown",
   "id": "99bf3ffe",
   "metadata": {},
   "source": [
    "Selecting Array Element"
   ]
  },
  {
   "cell_type": "code",
   "execution_count": 16,
   "id": "9d3cfbea",
   "metadata": {},
   "outputs": [
    {
     "name": "stdout",
     "output_type": "stream",
     "text": [
      "[[ 7  8]\n",
      " [ 9 10]]\n"
     ]
    }
   ],
   "source": [
    "slicing = np.array([[7,8],[9,10]])\n",
    "print(slicing)"
   ]
  },
  {
   "cell_type": "code",
   "execution_count": 17,
   "id": "0bf63678",
   "metadata": {},
   "outputs": [
    {
     "name": "stdout",
     "output_type": "stream",
     "text": [
      "8\n"
     ]
    }
   ],
   "source": [
    "print(slicing[0,1])"
   ]
  },
  {
   "cell_type": "code",
   "execution_count": 18,
   "id": "748117ce",
   "metadata": {},
   "outputs": [
    {
     "name": "stdout",
     "output_type": "stream",
     "text": [
      "10\n"
     ]
    }
   ],
   "source": [
    "print(slicing[1,1])"
   ]
  },
  {
   "cell_type": "markdown",
   "id": "666e9eb3",
   "metadata": {},
   "source": [
    "Working with Data Frames"
   ]
  },
  {
   "cell_type": "code",
   "execution_count": null,
   "id": "419b5e07",
   "metadata": {},
   "outputs": [],
   "source": []
  }
 ],
 "metadata": {
  "kernelspec": {
   "display_name": "Python 3 (ipykernel)",
   "language": "python",
   "name": "python3"
  },
  "language_info": {
   "codemirror_mode": {
    "name": "ipython",
    "version": 3
   },
   "file_extension": ".py",
   "mimetype": "text/x-python",
   "name": "python",
   "nbconvert_exporter": "python",
   "pygments_lexer": "ipython3",
   "version": "3.9.12"
  }
 },
 "nbformat": 4,
 "nbformat_minor": 5
}
