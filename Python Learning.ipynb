{
 "cells": [
  {
   "cell_type": "code",
   "execution_count": 2,
   "id": "e81438f4",
   "metadata": {
    "scrolled": false
   },
   "outputs": [],
   "source": [
    "emptyList = []"
   ]
  },
  {
   "cell_type": "code",
   "execution_count": 3,
   "id": "74114eab",
   "metadata": {
    "scrolled": false
   },
   "outputs": [],
   "source": [
    "names = ['Sam', 'Tim', 'Mike', 'Meka']"
   ]
  },
  {
   "cell_type": "code",
   "execution_count": 4,
   "id": "5b3b341b",
   "metadata": {
    "scrolled": false
   },
   "outputs": [
    {
     "data": {
      "text/plain": [
       "'Tim'"
      ]
     },
     "execution_count": 4,
     "metadata": {},
     "output_type": "execute_result"
    }
   ],
   "source": [
    "names[1]"
   ]
  },
  {
   "cell_type": "code",
   "execution_count": 5,
   "id": "dc622385",
   "metadata": {
    "scrolled": false
   },
   "outputs": [
    {
     "data": {
      "text/plain": [
       "9"
      ]
     },
     "execution_count": 5,
     "metadata": {},
     "output_type": "execute_result"
    }
   ],
   "source": [
    "5 + 4"
   ]
  },
  {
   "cell_type": "code",
   "execution_count": 6,
   "id": "3aba7a43",
   "metadata": {
    "scrolled": false
   },
   "outputs": [],
   "source": [
    "num1 = 12\n",
    "num2 = 5"
   ]
  },
  {
   "cell_type": "code",
   "execution_count": 14,
   "id": "83ea31fb",
   "metadata": {
    "scrolled": false
   },
   "outputs": [
    {
     "name": "stdout",
     "output_type": "stream",
     "text": [
      "The addition of num1 and num2 is  17\n",
      "The subtraction of num1 and num2 is  7\n",
      "The multiplication of num1 and num2 is  60\n",
      "The remainder of num1 and num2 is  2\n",
      "The division of num1 and num2 is  2.4\n",
      "Num1 to the power of num2 is  248832\n"
     ]
    }
   ],
   "source": [
    "#addition\n",
    "num1 + num2\n",
    "print('The addition of num1 and num2 is ', num1 + num2)\n",
    "\n",
    "#subtraction\n",
    "num1-num2\n",
    "print('The subtraction of num1 and num2 is ', num1 - num2)\n",
    "\n",
    "#multiplication\n",
    "num1 * num2\n",
    "print('The multiplication of num1 and num2 is ', num1 * num2)\n",
    "\n",
    "\n",
    "#modulus (remainder)\n",
    "num1%num2\n",
    "print('The remainder of num1 and num2 is ', num1 % num2)\n",
    "\n",
    "\n",
    "#division\n",
    "num1/num2\n",
    "print('The division of num1 and num2 is ', num1 / num2)\n",
    "\n",
    "\n",
    "#exponent\n",
    "num1**num2\n",
    "print('Num1 to the power of num2 is ', num1 ** num2)\n"
   ]
  },
  {
   "cell_type": "code",
   "execution_count": 13,
   "id": "40ea9cc6",
   "metadata": {
    "scrolled": false
   },
   "outputs": [
    {
     "name": "stdout",
     "output_type": "stream",
     "text": [
      "The division of num1 and num2 is  2.4\n",
      "The division of num1 and num2 is  2\n"
     ]
    }
   ],
   "source": [
    "#single slash will give you the value as a float\n",
    "num1/num2\n",
    "print('The division of num1 and num2 is ', num1 / num2)\n",
    "\n",
    "#double // slash will give you the value as an integer\n",
    "num1//num2\n",
    "print('The division of num1 and num2 is ', num1 // num2)"
   ]
  },
  {
   "cell_type": "markdown",
   "id": "c0c4527a",
   "metadata": {},
   "source": [
    "# Comparison Operator"
   ]
  },
  {
   "cell_type": "code",
   "execution_count": 15,
   "id": "e80e2901",
   "metadata": {
    "scrolled": false
   },
   "outputs": [
    {
     "data": {
      "text/plain": [
       "False"
      ]
     },
     "execution_count": 15,
     "metadata": {},
     "output_type": "execute_result"
    }
   ],
   "source": [
    "# == Equal to\n",
    "num1==num2"
   ]
  },
  {
   "cell_type": "code",
   "execution_count": 16,
   "id": "4cc78b2e",
   "metadata": {
    "scrolled": false
   },
   "outputs": [
    {
     "data": {
      "text/plain": [
       "True"
      ]
     },
     "execution_count": 16,
     "metadata": {},
     "output_type": "execute_result"
    }
   ],
   "source": [
    "# != Not Equal to\n",
    "num1!=num2"
   ]
  },
  {
   "cell_type": "code",
   "execution_count": 17,
   "id": "23e13d17",
   "metadata": {
    "scrolled": false
   },
   "outputs": [
    {
     "data": {
      "text/plain": [
       "True"
      ]
     },
     "execution_count": 17,
     "metadata": {},
     "output_type": "execute_result"
    }
   ],
   "source": [
    "# > Greater than\n",
    "num1 > num2"
   ]
  },
  {
   "cell_type": "code",
   "execution_count": 18,
   "id": "57d82bdf",
   "metadata": {
    "scrolled": false
   },
   "outputs": [
    {
     "data": {
      "text/plain": [
       "False"
      ]
     },
     "execution_count": 18,
     "metadata": {},
     "output_type": "execute_result"
    }
   ],
   "source": [
    "# < Less than\n",
    "num1 < num2"
   ]
  },
  {
   "cell_type": "code",
   "execution_count": 19,
   "id": "9bdf5eaa",
   "metadata": {
    "scrolled": false
   },
   "outputs": [
    {
     "data": {
      "text/plain": [
       "True"
      ]
     },
     "execution_count": 19,
     "metadata": {},
     "output_type": "execute_result"
    }
   ],
   "source": [
    "# >= Greater than or equal to\n",
    "num1 >= num2"
   ]
  },
  {
   "cell_type": "code",
   "execution_count": null,
   "id": "eb661394",
   "metadata": {
    "scrolled": false
   },
   "outputs": [],
   "source": [
    "# Type Cast\n",
    "# int() - the paranthesis represents a function\n",
    "# argument is the value we pass thru the function \n",
    "# a function is pre-written code that does a specific job/thing\n",
    "# Convert 2.3 to int\n",
    "int(2.3)\n"
   ]
  },
  {
   "cell_type": "code",
   "execution_count": 5,
   "id": "dc8a2b6d",
   "metadata": {
    "scrolled": false
   },
   "outputs": [],
   "source": [
    "userName = input('Please enter your name')\n",
    "print(userName)"
   ]
  },
  {
   "cell_type": "code",
   "execution_count": null,
   "id": "515a8b42",
   "metadata": {
    "scrolled": false
   },
   "outputs": [],
   "source": [
    "{\n",
    "    this is equivalent to : in pyhton\n",
    "}"
   ]
  },
  {
   "cell_type": "code",
   "execution_count": 1,
   "id": "ac00145c",
   "metadata": {
    "scrolled": false
   },
   "outputs": [
    {
     "ename": "NameError",
     "evalue": "name 'expression' is not defined",
     "output_type": "error",
     "traceback": [
      "\u001b[0;31m---------------------------------------------------------------------------\u001b[0m",
      "\u001b[0;31mNameError\u001b[0m                                 Traceback (most recent call last)",
      "Input \u001b[0;32mIn [1]\u001b[0m, in \u001b[0;36m<cell line: 3>\u001b[0;34m()\u001b[0m\n\u001b[1;32m      1\u001b[0m num3 \u001b[38;5;241m=\u001b[39m \u001b[38;5;241m5\u001b[39m \n\u001b[0;32m----> 3\u001b[0m \u001b[38;5;28;01mif\u001b[39;00m \u001b[43mexpression\u001b[49m:\n\u001b[1;32m      4\u001b[0m     statement1\n\u001b[1;32m      5\u001b[0m \u001b[38;5;28;01melif\u001b[39;00m expression:\n",
      "\u001b[0;31mNameError\u001b[0m: name 'expression' is not defined"
     ]
    }
   ],
   "source": [
    "num3 = 5 \n",
    "\n",
    "if expression:\n",
    "    statement1\n",
    "elif expression:\n",
    "    statement2\n",
    "else:\n",
    "    statement3"
   ]
  },
  {
   "cell_type": "code",
   "execution_count": 4,
   "id": "7f6d07b3",
   "metadata": {
    "scrolled": false
   },
   "outputs": [
    {
     "name": "stdout",
     "output_type": "stream",
     "text": [
      "You are wrong!\n"
     ]
    }
   ],
   "source": [
    "num3 = 6\n",
    "\n",
    "if num3 == 5:\n",
    "    print('You are correct!')\n",
    "else:\n",
    "    print('You are wrong!')"
   ]
  },
  {
   "cell_type": "code",
   "execution_count": null,
   "id": "221c0a4d",
   "metadata": {
    "collapsed": true,
    "scrolled": false
   },
   "outputs": [],
   "source": []
  }
 ],
 "metadata": {
  "kernelspec": {
   "display_name": "Python 3 (ipykernel)",
   "language": "python",
   "name": "python3"
  },
  "language_info": {
   "codemirror_mode": {
    "name": "ipython",
    "version": 3
   },
   "file_extension": ".py",
   "mimetype": "text/x-python",
   "name": "python",
   "nbconvert_exporter": "python",
   "pygments_lexer": "ipython3",
   "version": "3.9.12"
  }
 },
 "nbformat": 4,
 "nbformat_minor": 5
}
