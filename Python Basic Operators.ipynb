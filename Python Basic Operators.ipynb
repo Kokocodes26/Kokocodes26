{
 "cells": [
  {
   "cell_type": "code",
   "execution_count": 2,
   "id": "211e5712",
   "metadata": {},
   "outputs": [],
   "source": [
    "emptyList = []"
   ]
  },
  {
   "cell_type": "code",
   "execution_count": 3,
   "id": "08b146b9",
   "metadata": {},
   "outputs": [],
   "source": [
    "names = ['Sam', 'Tim', 'Mike', 'Meka']"
   ]
  },
  {
   "cell_type": "code",
   "execution_count": 4,
   "id": "0b103b1e",
   "metadata": {},
   "outputs": [
    {
     "data": {
      "text/plain": [
       "'Tim'"
      ]
     },
     "execution_count": 4,
     "metadata": {},
     "output_type": "execute_result"
    }
   ],
   "source": [
    "names[1]"
   ]
  },
  {
   "cell_type": "code",
   "execution_count": 5,
   "id": "dcaddfd5",
   "metadata": {},
   "outputs": [
    {
     "data": {
      "text/plain": [
       "9"
      ]
     },
     "execution_count": 5,
     "metadata": {},
     "output_type": "execute_result"
    }
   ],
   "source": [
    "5 + 4"
   ]
  },
  {
   "cell_type": "code",
   "execution_count": 6,
   "id": "a43bd728",
   "metadata": {},
   "outputs": [],
   "source": [
    "num1 = 12\n",
    "num2 = 5"
   ]
  },
  {
   "cell_type": "code",
   "execution_count": 14,
   "id": "0ee0f040",
   "metadata": {},
   "outputs": [
    {
     "name": "stdout",
     "output_type": "stream",
     "text": [
      "The addition of num1 and num2 is  17\n",
      "The subtraction of num1 and num2 is  7\n",
      "The multiplication of num1 and num2 is  60\n",
      "The remainder of num1 and num2 is  2\n",
      "The division of num1 and num2 is  2.4\n",
      "Num1 to the power of num2 is  248832\n"
     ]
    }
   ],
   "source": [
    "#addition\n",
    "num1 + num2\n",
    "print('The addition of num1 and num2 is ', num1 + num2)\n",
    "\n",
    "#subtraction\n",
    "num1-num2\n",
    "print('The subtraction of num1 and num2 is ', num1 - num2)\n",
    "\n",
    "#multiplication\n",
    "num1 * num2\n",
    "print('The multiplication of num1 and num2 is ', num1 * num2)\n",
    "\n",
    "\n",
    "#modulus (remainder)\n",
    "num1%num2\n",
    "print('The remainder of num1 and num2 is ', num1 % num2)\n",
    "\n",
    "\n",
    "#division\n",
    "num1/num2\n",
    "print('The division of num1 and num2 is ', num1 / num2)\n",
    "\n",
    "\n",
    "#exponent\n",
    "num1**num2\n",
    "print('Num1 to the power of num2 is ', num1 ** num2)\n"
   ]
  },
  {
   "cell_type": "code",
   "execution_count": 13,
   "id": "8096a21e",
   "metadata": {},
   "outputs": [
    {
     "name": "stdout",
     "output_type": "stream",
     "text": [
      "The division of num1 and num2 is  2.4\n",
      "The division of num1 and num2 is  2\n"
     ]
    }
   ],
   "source": [
    "#single slash will give you the value as a float\n",
    "num1/num2\n",
    "print('The division of num1 and num2 is ', num1 / num2)\n",
    "\n",
    "#double // slash will give you the value as an integer\n",
    "num1//num2\n",
    "print('The division of num1 and num2 is ', num1 // num2)"
   ]
  },
  {
   "cell_type": "markdown",
   "id": "f7c786a1",
   "metadata": {},
   "source": [
    "# Comparison Operator"
   ]
  },
  {
   "cell_type": "code",
   "execution_count": 15,
   "id": "96234453",
   "metadata": {},
   "outputs": [
    {
     "data": {
      "text/plain": [
       "False"
      ]
     },
     "execution_count": 15,
     "metadata": {},
     "output_type": "execute_result"
    }
   ],
   "source": [
    "# == Equal to\n",
    "num1==num2"
   ]
  },
  {
   "cell_type": "code",
   "execution_count": 16,
   "id": "5f0c8f76",
   "metadata": {},
   "outputs": [
    {
     "data": {
      "text/plain": [
       "True"
      ]
     },
     "execution_count": 16,
     "metadata": {},
     "output_type": "execute_result"
    }
   ],
   "source": [
    "# != Not Equal to\n",
    "num1!=num2"
   ]
  },
  {
   "cell_type": "code",
   "execution_count": 17,
   "id": "f5cdf729",
   "metadata": {},
   "outputs": [
    {
     "data": {
      "text/plain": [
       "True"
      ]
     },
     "execution_count": 17,
     "metadata": {},
     "output_type": "execute_result"
    }
   ],
   "source": [
    "# > Greater than\n",
    "num1 > num2"
   ]
  },
  {
   "cell_type": "code",
   "execution_count": 18,
   "id": "6dae487e",
   "metadata": {},
   "outputs": [
    {
     "data": {
      "text/plain": [
       "False"
      ]
     },
     "execution_count": 18,
     "metadata": {},
     "output_type": "execute_result"
    }
   ],
   "source": [
    "# < Less than\n",
    "num1 < num2"
   ]
  },
  {
   "cell_type": "code",
   "execution_count": 19,
   "id": "d062bb9a",
   "metadata": {},
   "outputs": [
    {
     "data": {
      "text/plain": [
       "True"
      ]
     },
     "execution_count": 19,
     "metadata": {},
     "output_type": "execute_result"
    }
   ],
   "source": [
    "# >= Greater than or equal to\n",
    "num1 >= num2"
   ]
  },
  {
   "cell_type": "code",
   "execution_count": null,
   "id": "dd6701a9",
   "metadata": {},
   "outputs": [],
   "source": [
    "# Type Cast\n",
    "# int() - the paranthesis represents a function\n",
    "# argument is the value we pass thru the function \n",
    "# a function is pre-written code that does a specific job/thing\n",
    "# Convert 2.3 to int\n",
    "int(2.3)\n"
   ]
  },
  {
   "cell_type": "code",
   "execution_count": null,
   "id": "f943075c",
   "metadata": {},
   "outputs": [],
   "source": [
    "userName = input('Please enter your name')\n",
    "print(userName)"
   ]
  },
  {
   "cell_type": "code",
   "execution_count": null,
   "id": "e47cca5f",
   "metadata": {},
   "outputs": [],
   "source": [
    "{\n",
    "    this is equivalent to : in pyhton\n",
    "}"
   ]
  },
  {
   "cell_type": "code",
   "execution_count": null,
   "id": "2bcb3922",
   "metadata": {},
   "outputs": [],
   "source": [
    "num3 = 5 \n",
    "\n",
    "if expression:\n",
    "    statement\n",
    "elif expression:\n",
    "    stateme"
   ]
  }
 ],
 "metadata": {
  "kernelspec": {
   "display_name": "Python 3 (ipykernel)",
   "language": "python",
   "name": "python3"
  },
  "language_info": {
   "codemirror_mode": {
    "name": "ipython",
    "version": 3
   },
   "file_extension": ".py",
   "mimetype": "text/x-python",
   "name": "python",
   "nbconvert_exporter": "python",
   "pygments_lexer": "ipython3",
   "version": "3.9.12"
  }
 },
 "nbformat": 4,
 "nbformat_minor": 5
}
